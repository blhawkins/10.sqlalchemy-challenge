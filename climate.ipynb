{
 "cells": [
  {
   "cell_type": "code",
   "execution_count": 1,
   "metadata": {},
   "outputs": [],
   "source": [
    "#Import Dependencies and Formatting\n",
    "import numpy as np\n",
    "import pandas as pd\n",
    "import datetime as dt\n",
    "import matplotlib.pyplot as plt\n",
    "from matplotlib import style\n",
    "from matplotlib.dates import DateFormatter\n",
    "style.use('fivethirtyeight')\n",
    "%matplotlib inline"
   ]
  },
  {
   "cell_type": "markdown",
   "metadata": {},
   "source": [
    "# Reflect Tables into SQLAlchemy ORM"
   ]
  },
  {
   "cell_type": "code",
   "execution_count": 2,
   "metadata": {},
   "outputs": [],
   "source": [
    "#Python SQL toolkit and Object Relational Mapper\n",
    "import sqlalchemy\n",
    "from sqlalchemy.ext.automap import automap_base\n",
    "from sqlalchemy.orm import Session\n",
    "from sqlalchemy import create_engine, func, inspect, distinct"
   ]
  },
  {
   "cell_type": "code",
   "execution_count": 3,
   "metadata": {},
   "outputs": [],
   "source": [
    "engine = create_engine(\"sqlite:///Resources/hawaii.sqlite\")"
   ]
  },
  {
   "cell_type": "code",
   "execution_count": 4,
   "metadata": {},
   "outputs": [],
   "source": [
    "#Declare a Base using automap_base()\n",
    "Base = automap_base()\n",
    "\n",
    "#Use the Base class to reflect the database tables\n",
    "Base.prepare(engine, reflect=True)"
   ]
  },
  {
   "cell_type": "code",
   "execution_count": 5,
   "metadata": {},
   "outputs": [
    {
     "data": {
      "text/plain": [
       "['measurement', 'station']"
      ]
     },
     "execution_count": 5,
     "metadata": {},
     "output_type": "execute_result"
    }
   ],
   "source": [
    "#Print all of the classes mapped to the Base\n",
    "Base.classes.keys()"
   ]
  },
  {
   "cell_type": "code",
   "execution_count": 6,
   "metadata": {},
   "outputs": [],
   "source": [
    "#Assign the measurement class to a variable called 'measurement'\n",
    "measurement = Base.classes.measurement\n",
    "\n",
    "#Assign the station class to a variable called 'station'\n",
    "station = Base.classes.station"
   ]
  },
  {
   "cell_type": "code",
   "execution_count": 7,
   "metadata": {},
   "outputs": [],
   "source": [
    "#Create the session (link) from Python to the DB\n",
    "session = Session(engine)"
   ]
  },
  {
   "cell_type": "markdown",
   "metadata": {},
   "source": [
    "# Exploratory Climate Analysis"
   ]
  },
  {
   "cell_type": "markdown",
   "metadata": {},
   "source": [
    "### Precipitation Analysis"
   ]
  },
  {
   "cell_type": "code",
   "execution_count": 8,
   "metadata": {},
   "outputs": [
    {
     "name": "stdout",
     "output_type": "stream",
     "text": [
      "id INTEGER\n",
      "station TEXT\n",
      "date TEXT\n",
      "prcp FLOAT\n",
      "tobs FLOAT\n"
     ]
    }
   ],
   "source": [
    "#Use the inspector to see the columns of the measurement object\n",
    "inspector = inspect(engine)\n",
    "\n",
    "columns = inspector.get_columns('measurement')\n",
    "for column in columns:\n",
    "    print(column[\"name\"], column[\"type\"])"
   ]
  },
  {
   "cell_type": "code",
   "execution_count": 9,
   "metadata": {},
   "outputs": [
    {
     "name": "stdout",
     "output_type": "stream",
     "text": [
      "id INTEGER\n",
      "station TEXT\n",
      "name TEXT\n",
      "latitude FLOAT\n",
      "longitude FLOAT\n",
      "elevation FLOAT\n"
     ]
    }
   ],
   "source": [
    "#Use the inspector to see the columns of the station object\n",
    "inspector = inspect(engine)\n",
    "\n",
    "columns = inspector.get_columns('station')\n",
    "for column in columns:\n",
    "    print(column[\"name\"], column[\"type\"])"
   ]
  },
  {
   "cell_type": "code",
   "execution_count": 10,
   "metadata": {},
   "outputs": [
    {
     "name": "stdout",
     "output_type": "stream",
     "text": [
      "This shows the percipitation data between 2016-08-23 00:00:00 and 2017-08-23 00:00:00.\n"
     ]
    },
    {
     "data": {
      "text/html": [
       "<div>\n",
       "<style scoped>\n",
       "    .dataframe tbody tr th:only-of-type {\n",
       "        vertical-align: middle;\n",
       "    }\n",
       "\n",
       "    .dataframe tbody tr th {\n",
       "        vertical-align: top;\n",
       "    }\n",
       "\n",
       "    .dataframe thead th {\n",
       "        text-align: right;\n",
       "    }\n",
       "</style>\n",
       "<table border=\"1\" class=\"dataframe\">\n",
       "  <thead>\n",
       "    <tr style=\"text-align: right;\">\n",
       "      <th></th>\n",
       "      <th>Precipitation</th>\n",
       "    </tr>\n",
       "    <tr>\n",
       "      <th>Date</th>\n",
       "      <th></th>\n",
       "    </tr>\n",
       "  </thead>\n",
       "  <tbody>\n",
       "    <tr>\n",
       "      <th>2016-08-24</th>\n",
       "      <td>0.08</td>\n",
       "    </tr>\n",
       "    <tr>\n",
       "      <th>2016-08-24</th>\n",
       "      <td>NaN</td>\n",
       "    </tr>\n",
       "    <tr>\n",
       "      <th>2016-08-24</th>\n",
       "      <td>2.15</td>\n",
       "    </tr>\n",
       "    <tr>\n",
       "      <th>2016-08-24</th>\n",
       "      <td>2.28</td>\n",
       "    </tr>\n",
       "    <tr>\n",
       "      <th>2016-08-24</th>\n",
       "      <td>2.15</td>\n",
       "    </tr>\n",
       "    <tr>\n",
       "      <th>...</th>\n",
       "      <td>...</td>\n",
       "    </tr>\n",
       "    <tr>\n",
       "      <th>2017-08-22</th>\n",
       "      <td>0.00</td>\n",
       "    </tr>\n",
       "    <tr>\n",
       "      <th>2017-08-23</th>\n",
       "      <td>0.08</td>\n",
       "    </tr>\n",
       "    <tr>\n",
       "      <th>2017-08-23</th>\n",
       "      <td>0.00</td>\n",
       "    </tr>\n",
       "    <tr>\n",
       "      <th>2017-08-23</th>\n",
       "      <td>0.00</td>\n",
       "    </tr>\n",
       "    <tr>\n",
       "      <th>2017-08-23</th>\n",
       "      <td>0.45</td>\n",
       "    </tr>\n",
       "  </tbody>\n",
       "</table>\n",
       "<p>2223 rows × 1 columns</p>\n",
       "</div>"
      ],
      "text/plain": [
       "            Precipitation\n",
       "Date                     \n",
       "2016-08-24           0.08\n",
       "2016-08-24            NaN\n",
       "2016-08-24           2.15\n",
       "2016-08-24           2.28\n",
       "2016-08-24           2.15\n",
       "...                   ...\n",
       "2017-08-22           0.00\n",
       "2017-08-23           0.08\n",
       "2017-08-23           0.00\n",
       "2017-08-23           0.00\n",
       "2017-08-23           0.45\n",
       "\n",
       "[2223 rows x 1 columns]"
      ]
     },
     "execution_count": 10,
     "metadata": {},
     "output_type": "execute_result"
    }
   ],
   "source": [
    "#Design a query to retrieve the last 12 months of precipitation data and plot the results\n",
    "\n",
    "#Calculate the date 1 year before the last data point in the database\n",
    "date_query = session.query(measurement.date).order_by(measurement.date.desc()).first()\n",
    "last_date_str = date_query[0]\n",
    "last_date = dt.datetime.strptime(last_date_str, '%Y-%m-%d')\n",
    "    #https://stackoverflow.com/questions/466345/converting-string-into-datetime\n",
    "year_ago = last_date - dt.timedelta(days=365)\n",
    "print(f'This shows the percipitation data between {year_ago} and {last_date}.')\n",
    "\n",
    "#Perform a query to retrieve the data and precipitation scores\n",
    "precip_query = session.query(measurement.date, measurement.prcp).filter(measurement.date >= year_ago)\n",
    "\n",
    "#Save the query results as a Pandas DataFrame and set the index to the date column\n",
    "precip_df = pd.DataFrame(precip_query, columns = ['Date', 'Precipitation'])\n",
    "precip_df = precip_df.set_index('Date')\n",
    "\n",
    "#Sort the dataframe by date\n",
    "precip_df = precip_df.sort_values('Date')\n",
    "\n",
    "#Print the dataframe\n",
    "precip_df"
   ]
  },
  {
   "cell_type": "code",
   "execution_count": 30,
   "metadata": {},
   "outputs": [
    {
     "data": {
      "image/png": "[encoded data removed]",
      "text/plain": [
       "<Figure size 432x288 with 1 Axes>"
      ]
     },
     "metadata": {
      "needs_background": "light"
     },
     "output_type": "display_data"
    }
   ],
   "source": [
    "#Use Pandas Plotting with Matplotlib to plot the precipitation data\n",
    "\n",
    "#Create the bar chart from the precip_df dataframe\n",
    "precip_df.plot()\n",
    "\n",
    "#Format the bar chart\n",
    "plt.title('Precipitation between August 2016 and August 2017')\n",
    "plt.xlabel('Date')\n",
    "plt.ylabel('Precipitation (in)')\n",
    "\n",
    "#Save the figure\n",
    "plt.savefig('Figures/year_percipitation_records.png')\n",
    "\n",
    "#Print the figure\n",
    "plt.show()"
   ]
  },
  {
   "cell_type": "code",
   "execution_count": 12,
   "metadata": {},
   "outputs": [
    {
     "data": {
      "text/html": [
       "<div>\n",
       "<style scoped>\n",
       "    .dataframe tbody tr th:only-of-type {\n",
       "        vertical-align: middle;\n",
       "    }\n",
       "\n",
       "    .dataframe tbody tr th {\n",
       "        vertical-align: top;\n",
       "    }\n",
       "\n",
       "    .dataframe thead th {\n",
       "        text-align: right;\n",
       "    }\n",
       "</style>\n",
       "<table border=\"1\" class=\"dataframe\">\n",
       "  <thead>\n",
       "    <tr style=\"text-align: right;\">\n",
       "      <th></th>\n",
       "      <th>Value</th>\n",
       "    </tr>\n",
       "  </thead>\n",
       "  <tbody>\n",
       "    <tr>\n",
       "      <th>Mean</th>\n",
       "      <td>0.176462</td>\n",
       "    </tr>\n",
       "    <tr>\n",
       "      <th>Median</th>\n",
       "      <td>0.020000</td>\n",
       "    </tr>\n",
       "    <tr>\n",
       "      <th>Variance</th>\n",
       "      <td>0.211865</td>\n",
       "    </tr>\n",
       "    <tr>\n",
       "      <th>Standard Deviation</th>\n",
       "      <td>0.460288</td>\n",
       "    </tr>\n",
       "    <tr>\n",
       "      <th>Standard Error of the Mean</th>\n",
       "      <td>0.010254</td>\n",
       "    </tr>\n",
       "  </tbody>\n",
       "</table>\n",
       "</div>"
      ],
      "text/plain": [
       "                               Value\n",
       "Mean                        0.176462\n",
       "Median                      0.020000\n",
       "Variance                    0.211865\n",
       "Standard Deviation          0.460288\n",
       "Standard Error of the Mean  0.010254"
      ]
     },
     "execution_count": 12,
     "metadata": {},
     "output_type": "execute_result"
    }
   ],
   "source": [
    "#Use Pandas and Numpy to calcualte the summary statistics for the precipitation data\n",
    "precip_mean = precip_df['Precipitation'].mean()\n",
    "precip_median = precip_df['Precipitation'].median()\n",
    "precip_variance = precip_df['Precipitation'].var()\n",
    "precip_std = precip_df['Precipitation'].std()\n",
    "precip_sem = precip_df['Precipitation'].sem()\n",
    "\n",
    "#Combine the statistical values into a summary table\n",
    "summary_statistics = pd.DataFrame([precip_mean, precip_median, precip_variance, precip_std, precip_sem],['Mean', 'Median', 'Variance', 'Standard Deviation', 'Standard Error of the Mean'], columns = ['Value'])\n",
    "\n",
    "#Print summary statistics table\n",
    "summary_statistics"
   ]
  },
  {
   "cell_type": "markdown",
   "metadata": {},
   "source": [
    "### Station Analysis"
   ]
  },
  {
   "cell_type": "code",
   "execution_count": 13,
   "metadata": {},
   "outputs": [
    {
     "name": "stdout",
     "output_type": "stream",
     "text": [
      "There are 9 unique stations in the Measurements dataset.\n"
     ]
    }
   ],
   "source": [
    "#Design a query to show how many stations are available in this dataset.\n",
    "unique_stations_number = session.query(measurement.station).distinct().count()\n",
    "    #or unique_stations_number = engine.execute('select distinct(station) from measurement').fetchall()\n",
    "    #https://stackoverflow.com/questions/17223174/returning-distinct-rows-in-sqlalchemy-with-sqlite\n",
    "\n",
    "#Print the result\n",
    "print(f'There are {unique_stations_number} unique stations in the Measurements dataset.')"
   ]
  },
  {
   "cell_type": "code",
   "execution_count": 14,
   "metadata": {},
   "outputs": [
    {
     "data": {
      "text/html": [
       "<div>\n",
       "<style scoped>\n",
       "    .dataframe tbody tr th:only-of-type {\n",
       "        vertical-align: middle;\n",
       "    }\n",
       "\n",
       "    .dataframe tbody tr th {\n",
       "        vertical-align: top;\n",
       "    }\n",
       "\n",
       "    .dataframe thead th {\n",
       "        text-align: right;\n",
       "    }\n",
       "</style>\n",
       "<table border=\"1\" class=\"dataframe\">\n",
       "  <thead>\n",
       "    <tr style=\"text-align: right;\">\n",
       "      <th></th>\n",
       "      <th>Station</th>\n",
       "      <th>Count</th>\n",
       "    </tr>\n",
       "  </thead>\n",
       "  <tbody>\n",
       "    <tr>\n",
       "      <th>0</th>\n",
       "      <td>USC00519281</td>\n",
       "      <td>2772</td>\n",
       "    </tr>\n",
       "    <tr>\n",
       "      <th>1</th>\n",
       "      <td>USC00519397</td>\n",
       "      <td>2724</td>\n",
       "    </tr>\n",
       "    <tr>\n",
       "      <th>2</th>\n",
       "      <td>USC00513117</td>\n",
       "      <td>2709</td>\n",
       "    </tr>\n",
       "    <tr>\n",
       "      <th>3</th>\n",
       "      <td>USC00519523</td>\n",
       "      <td>2669</td>\n",
       "    </tr>\n",
       "    <tr>\n",
       "      <th>4</th>\n",
       "      <td>USC00516128</td>\n",
       "      <td>2612</td>\n",
       "    </tr>\n",
       "    <tr>\n",
       "      <th>5</th>\n",
       "      <td>USC00514830</td>\n",
       "      <td>2202</td>\n",
       "    </tr>\n",
       "    <tr>\n",
       "      <th>6</th>\n",
       "      <td>USC00511918</td>\n",
       "      <td>1979</td>\n",
       "    </tr>\n",
       "    <tr>\n",
       "      <th>7</th>\n",
       "      <td>USC00517948</td>\n",
       "      <td>1372</td>\n",
       "    </tr>\n",
       "    <tr>\n",
       "      <th>8</th>\n",
       "      <td>USC00518838</td>\n",
       "      <td>511</td>\n",
       "    </tr>\n",
       "  </tbody>\n",
       "</table>\n",
       "</div>"
      ],
      "text/plain": [
       "       Station  Count\n",
       "0  USC00519281   2772\n",
       "1  USC00519397   2724\n",
       "2  USC00513117   2709\n",
       "3  USC00519523   2669\n",
       "4  USC00516128   2612\n",
       "5  USC00514830   2202\n",
       "6  USC00511918   1979\n",
       "7  USC00517948   1372\n",
       "8  USC00518838    511"
      ]
     },
     "execution_count": 14,
     "metadata": {},
     "output_type": "execute_result"
    }
   ],
   "source": [
    "#What are the most active stations?(i.e. what stations have the most rows)?\n",
    "\n",
    "#Design a query to list the stations and the counts in descending order.\n",
    "unique_stations_list = session.query(measurement.station, func.count(measurement.station)).group_by(measurement.station).order_by(func.count(measurement.station).desc())\n",
    "    #https://docs.sqlalchemy.org/en/13/orm/query.html\n",
    "    #or unique_stations_list = engine.execute('Select station, count(station) from measurement Group by station Order by count(station) desc').fetchall()\n",
    "\n",
    "#Pull the query result into a dataframe\n",
    "active_stations_df = pd.DataFrame(unique_stations_list, columns = ['Station', 'Count'])\n",
    "\n",
    "#Print the resulting dataframe\n",
    "active_stations_df"
   ]
  },
  {
   "cell_type": "code",
   "execution_count": 15,
   "metadata": {},
   "outputs": [
    {
     "name": "stdout",
     "output_type": "stream",
     "text": [
      "The most active station is USC00519281.\n",
      "The lowest temperature recorded at Station USC00519281 is 54.0.\n",
      "The highest temperature recorded at Station USC00519281 is 85.0.\n",
      "The average temperature recorded at Station USC00519281 is 71.66.\n"
     ]
    }
   ],
   "source": [
    "#Using the station id from the previous query, calculate the lowest temperature recorded, highest temperature recorded, and average temperature of the most active station.\n",
    "\n",
    "#Obtain the station id of the most active station\n",
    "most_active_station = active_stations_df.iloc[0,0]\n",
    "print(f'The most active station is {most_active_station}.')\n",
    "\n",
    "#Find the lowest recorded temperature at the most active station\n",
    "lowest_temperature = session.query(func.min(measurement.tobs)).filter(measurement.station == most_active_station).scalar()\n",
    "    #https://docs.sqlalchemy.org/en/13/orm/query.html\n",
    "print(f'The lowest temperature recorded at Station {most_active_station} is {lowest_temperature}.')\n",
    "\n",
    "#Find the highest recorded temperature at the most active station\n",
    "highest_temperature = session.query(func.max(measurement.tobs)).filter(measurement.station == most_active_station).scalar()\n",
    "print(f'The highest temperature recorded at Station {most_active_station} is {highest_temperature}.')\n",
    "\n",
    "#Find the highest recorded temperature at the most active station\n",
    "average_temperature = round(session.query(func.avg(measurement.tobs)).filter(measurement.station == most_active_station).scalar(),2)\n",
    "print(f'The average temperature recorded at Station {most_active_station} is {average_temperature}.')"
   ]
  },
  {
   "cell_type": "code",
   "execution_count": 16,
   "metadata": {},
   "outputs": [
    {
     "name": "stdout",
     "output_type": "stream",
     "text": [
      "The most active station is USC00519281.\n"
     ]
    },
    {
     "data": {
      "text/html": [
       "<div>\n",
       "<style scoped>\n",
       "    .dataframe tbody tr th:only-of-type {\n",
       "        vertical-align: middle;\n",
       "    }\n",
       "\n",
       "    .dataframe tbody tr th {\n",
       "        vertical-align: top;\n",
       "    }\n",
       "\n",
       "    .dataframe thead th {\n",
       "        text-align: right;\n",
       "    }\n",
       "</style>\n",
       "<table border=\"1\" class=\"dataframe\">\n",
       "  <thead>\n",
       "    <tr style=\"text-align: right;\">\n",
       "      <th></th>\n",
       "      <th>Temperature</th>\n",
       "    </tr>\n",
       "    <tr>\n",
       "      <th>Date</th>\n",
       "      <th></th>\n",
       "    </tr>\n",
       "  </thead>\n",
       "  <tbody>\n",
       "    <tr>\n",
       "      <th>2016-08-24</th>\n",
       "      <td>77.0</td>\n",
       "    </tr>\n",
       "    <tr>\n",
       "      <th>2016-08-25</th>\n",
       "      <td>80.0</td>\n",
       "    </tr>\n",
       "    <tr>\n",
       "      <th>2016-08-26</th>\n",
       "      <td>80.0</td>\n",
       "    </tr>\n",
       "    <tr>\n",
       "      <th>2016-08-27</th>\n",
       "      <td>75.0</td>\n",
       "    </tr>\n",
       "    <tr>\n",
       "      <th>2016-08-28</th>\n",
       "      <td>73.0</td>\n",
       "    </tr>\n",
       "    <tr>\n",
       "      <th>...</th>\n",
       "      <td>...</td>\n",
       "    </tr>\n",
       "    <tr>\n",
       "      <th>2017-08-14</th>\n",
       "      <td>77.0</td>\n",
       "    </tr>\n",
       "    <tr>\n",
       "      <th>2017-08-15</th>\n",
       "      <td>77.0</td>\n",
       "    </tr>\n",
       "    <tr>\n",
       "      <th>2017-08-16</th>\n",
       "      <td>76.0</td>\n",
       "    </tr>\n",
       "    <tr>\n",
       "      <th>2017-08-17</th>\n",
       "      <td>76.0</td>\n",
       "    </tr>\n",
       "    <tr>\n",
       "      <th>2017-08-18</th>\n",
       "      <td>79.0</td>\n",
       "    </tr>\n",
       "  </tbody>\n",
       "</table>\n",
       "<p>351 rows × 1 columns</p>\n",
       "</div>"
      ],
      "text/plain": [
       "            Temperature\n",
       "Date                   \n",
       "2016-08-24         77.0\n",
       "2016-08-25         80.0\n",
       "2016-08-26         80.0\n",
       "2016-08-27         75.0\n",
       "2016-08-28         73.0\n",
       "...                 ...\n",
       "2017-08-14         77.0\n",
       "2017-08-15         77.0\n",
       "2017-08-16         76.0\n",
       "2017-08-17         76.0\n",
       "2017-08-18         79.0\n",
       "\n",
       "[351 rows x 1 columns]"
      ]
     },
     "execution_count": 16,
     "metadata": {},
     "output_type": "execute_result"
    }
   ],
   "source": [
    "#Choose the station with the highest number of temperature observations. Query the last 12 months of temperature observation data for this station and plot the results as a histogram.\n",
    "\n",
    "#Obtain the station id of the most active station.\n",
    "print(f'The most active station is {most_active_station}.')\n",
    "\n",
    "#Perform a query to retrieve the temperature data for the most active station in the previous year\n",
    "most_active_temp_query = session.query(measurement.date, measurement.tobs).filter(measurement.station == most_active_station).filter(measurement.date >= year_ago).filter(measurement.date <= last_date)\n",
    "\n",
    "#Save the query results as a Pandas DataFrame and set the index to the date column\n",
    "most_active_temp_df = pd.DataFrame(most_active_temp_query, columns = ['Date', 'Temperature'])\n",
    "most_active_temp_df = most_active_temp_df.set_index('Date')\n",
    "\n",
    "#Print the resulting dataframe\n",
    "most_active_temp_df"
   ]
  },
  {
   "cell_type": "code",
   "execution_count": 33,
   "metadata": {
    "scrolled": false
   },
   "outputs": [
    {
     "data": {
      "image/png": "[encoded data removed]",
      "text/plain": [
       "<Figure size 432x288 with 1 Axes>"
      ]
     },
     "metadata": {
      "needs_background": "light"
     },
     "output_type": "display_data"
    }
   ],
   "source": [
    "#Use the most_active_temp_df dataframe to create a histogram modelling the data.\n",
    "most_active_temp_df['Temperature'].plot.hist(bins = [52, 55, 58, 61, 64, 67, 70, 73, 76, 79, 82, 85, 88], color=\"red\", alpha=0.6)\n",
    "\n",
    "#Format the histogram\n",
    "plt.title(f'Station {most_active_station} Temperatures Aug 2016-Aug 2017')\n",
    "plt.xlabel('Temperature (°F)')\n",
    "plt.ylabel('Observations')\n",
    "\n",
    "#Save the figure\n",
    "plt.savefig('Figures/year_temperature_records.png')\n",
    "\n",
    "#Print the figure\n",
    "plt.show()"
   ]
  },
  {
   "cell_type": "markdown",
   "metadata": {},
   "source": [
    "# Bonus Analysis"
   ]
  },
  {
   "cell_type": "markdown",
   "metadata": {},
   "source": [
    "### Temperature Analysis I"
   ]
  },
  {
   "cell_type": "code",
   "execution_count": 18,
   "metadata": {},
   "outputs": [
    {
     "name": "stdout",
     "output_type": "stream",
     "text": [
      "Based on the 1700 temperature records taken in the month of June, the average temperature in June is 74.94° F.\n",
      "Based on the 1517 temperature records taken in the month of December, the average temperature in December is 71.04° F.\n"
     ]
    }
   ],
   "source": [
    "#Identify the average temperature in June and December at all stations across all available years in the dataset.\n",
    "\n",
    "#Design two seperate queries to return all temperature records taken in June and December, respectively.\n",
    "june_temp_query = session.query(measurement.date, measurement.tobs).filter(measurement.date.like('%-06-%')).all()\n",
    "    #https://stackoverflow.com/questions/3325467/sqlalchemy-equivalent-to-sql-like-statement\n",
    "december_temp_query = session.query(measurement.date, measurement.tobs).filter(measurement.date.like('%-12-%')).all()\n",
    "\n",
    "#Convert the query results into a Pandas dataframe\n",
    "june_temp_df = pd.DataFrame(june_temp_query, columns = ['Date', 'Temperature'])\n",
    "december_temp_df = pd.DataFrame(december_temp_query, columns = ['Date', 'Temperature'])\n",
    "\n",
    "#Perform relevant calculations\n",
    "june_temp_count = len(june_temp_df)\n",
    "june_temp_avg = round(june_temp_df['Temperature'].mean(), 2)\n",
    "december_temp_count = len(december_temp_df)\n",
    "december_temp_avg = round(december_temp_df['Temperature'].mean(), 2)\n",
    "\n",
    "#Print results\n",
    "print(f'Based on the {june_temp_count} temperature records taken in the month of June, the average temperature in June is {june_temp_avg}° F.')\n",
    "print(f'Based on the {december_temp_count} temperature records taken in the month of December, the average temperature in December is {december_temp_avg}° F.')"
   ]
  },
  {
   "cell_type": "code",
   "execution_count": 19,
   "metadata": {},
   "outputs": [
    {
     "name": "stdout",
     "output_type": "stream",
     "text": [
      "Ttest_indResult(statistic=31.60372399000329, pvalue=3.9025129038616655e-191)\n",
      "From the result of the unpaired t-test, we reject the null hypothesis that the average temperatures in June and December are equal.\n"
     ]
    }
   ],
   "source": [
    "#Use an unpaired t-test to determine whether the difference in the means, if any, is statistically significant. \n",
    "from scipy.stats import ttest_ind\n",
    "print(ttest_ind(june_temp_df['Temperature'], december_temp_df['Temperature']))\n",
    "\n",
    "print(f'From the result of the unpaired t-test, we reject the null hypothesis that the average temperatures in June and December are equal.')"
   ]
  },
  {
   "cell_type": "markdown",
   "metadata": {},
   "source": [
    "### Temperature Analysis II"
   ]
  },
  {
   "cell_type": "code",
   "execution_count": 20,
   "metadata": {},
   "outputs": [],
   "source": [
    "#Define this function called `calc_temps` that accepts start date and end date in the format '%Y-%m-%d' \n",
    "#and returns the minimum, average, and maximum temperatures for that range of dates.\n",
    "def calc_temps(start_date, end_date):\n",
    "    \"\"\"TMIN, TAVG, and TMAX for a list of dates.\n",
    "    \n",
    "    Args:\n",
    "        start_date (string): A date string in the format %Y-%m-%d\n",
    "        end_date (string): A date string in the format %Y-%m-%d\n",
    "        \n",
    "    Returns:\n",
    "        TMIN, TAVE, and TMAX\n",
    "    \"\"\"\n",
    "    \n",
    "    return session.query(func.min(measurement.tobs), func.avg(measurement.tobs), func.max(measurement.tobs)).\\\n",
    "        filter(measurement.date >= start_date).filter(measurement.date <= end_date).all()"
   ]
  },
  {
   "cell_type": "code",
   "execution_count": 21,
   "metadata": {},
   "outputs": [],
   "source": [
    "#Define the beginning and ending dates of a hypothetical trip to Hawaii\n",
    "start_date = '2017-02-05'\n",
    "end_date = '2017-02-15'\n",
    "\n",
    "#Use these dates as inputs for the calc_temps function\n",
    "results = calc_temps(start_date, end_date)\n",
    "\n",
    "#Save the return values\n",
    "min_temp = results[0][0]\n",
    "avg_temp = results[0][1]\n",
    "max_temp = results[0][2]\n",
    "range_temp = max_temp-min_temp\n",
    "\n",
    "#Pull the avg_temp into a dataframe\n",
    "avg_temp_df = pd.DataFrame([avg_temp], columns = ['Average Temperature'])"
   ]
  },
  {
   "cell_type": "code",
   "execution_count": 34,
   "metadata": {},
   "outputs": [
    {
     "data": {
      "image/png": "[encoded data removed]",
      "text/plain": [
       "<Figure size 432x288 with 1 Axes>"
      ]
     },
     "metadata": {
      "needs_background": "light"
     },
     "output_type": "display_data"
    }
   ],
   "source": [
    "#Plot min_temp, avg_temp, and max_temp as a bar chart\n",
    "\n",
    "#Create the bar chart\n",
    "avg_temp_df.plot.bar(yerr = range_temp, capsize = 10)\n",
    "    #https://pandas.pydata.org/pandas-docs/stable/reference/api/pandas.DataFrame.plot.html#pandas.DataFrame.plot\n",
    "    #https://matplotlib.org/3.1.1/api/_as_gen/matplotlib.axes.Axes.errorbar.html\n",
    "\n",
    "#Format the bar chart\n",
    "tick_locations = [value for value in avg_temp_df['Average Temperature']]\n",
    "plt.xticks(tick_locations, '', rotation=\"vertical\")\n",
    "plt.title(f'Trip Average Temperature')\n",
    "plt.ylabel('Temperature (°F)')\n",
    "\n",
    "#Save the figure\n",
    "plt.savefig('Figures/trip_temperature_records.png')\n",
    "\n",
    "#Print the figure\n",
    "plt.show()"
   ]
  },
  {
   "cell_type": "markdown",
   "metadata": {},
   "source": [
    "### Temperature Analysis III"
   ]
  },
  {
   "cell_type": "code",
   "execution_count": 23,
   "metadata": {},
   "outputs": [],
   "source": [
    "#Define this function that calculates the daily normals \n",
    "#(i.e. the averages for tmin, tmax, and tavg for all historic data matching a specific month and day)\n",
    "\n",
    "def daily_normals(date):\n",
    "    \"\"\"Daily Normals.\n",
    "    \n",
    "    Args:\n",
    "        date (str): A date string in the format '%m-%d'\n",
    "        \n",
    "    Returns:\n",
    "        A list of tuples containing the daily normals, tmin, tavg, and tmax\n",
    "    \n",
    "    \"\"\"\n",
    "    \n",
    "    sel = [func.min(measurement.tobs), func.avg(measurement.tobs), func.max(measurement.tobs)]\n",
    "    return session.query(*sel).filter(func.strftime(\"%m-%d\", measurement.date) == date).all()"
   ]
  },
  {
   "cell_type": "code",
   "execution_count": 24,
   "metadata": {},
   "outputs": [],
   "source": [
    "#Create a list of the dates between the start_date and end_date defined in the previous section\n",
    "vacation_dates = pd.date_range(start=start_date,end=end_date)\n",
    "\n",
    "#Create empty lists to hold the return values of the daily_normals function\n",
    "tmin = []\n",
    "tavg = []\n",
    "tmax = []\n",
    "\n",
    "#Create an empty list to hold the vacation dates\n",
    "vacation_dates_list = []\n",
    "\n",
    "#Use each date from vacation_dates as input to the daily_normals function and record the return values\n",
    "for date_stamp in vacation_dates:\n",
    "    vacation_dates_list.append(dt.date.strftime(date_stamp, \"%Y-%m-%d\"))\n",
    "    tmin.append(daily_normals(dt.date.strftime(date_stamp, \"%m-%d\"))[0][0])\n",
    "    tavg.append(daily_normals(dt.date.strftime(date_stamp, \"%m-%d\"))[0][1])\n",
    "    tmax.append(daily_normals(dt.date.strftime(date_stamp, \"%m-%d\"))[0][2])"
   ]
  },
  {
   "cell_type": "code",
   "execution_count": 25,
   "metadata": {},
   "outputs": [
    {
     "data": {
      "text/html": [
       "<div>\n",
       "<style scoped>\n",
       "    .dataframe tbody tr th:only-of-type {\n",
       "        vertical-align: middle;\n",
       "    }\n",
       "\n",
       "    .dataframe tbody tr th {\n",
       "        vertical-align: top;\n",
       "    }\n",
       "\n",
       "    .dataframe thead th {\n",
       "        text-align: right;\n",
       "    }\n",
       "</style>\n",
       "<table border=\"1\" class=\"dataframe\">\n",
       "  <thead>\n",
       "    <tr style=\"text-align: right;\">\n",
       "      <th></th>\n",
       "      <th>TMin</th>\n",
       "      <th>TAvg</th>\n",
       "      <th>TMax</th>\n",
       "    </tr>\n",
       "    <tr>\n",
       "      <th>Date</th>\n",
       "      <th></th>\n",
       "      <th></th>\n",
       "      <th></th>\n",
       "    </tr>\n",
       "  </thead>\n",
       "  <tbody>\n",
       "    <tr>\n",
       "      <th>2017-02-05</th>\n",
       "      <td>59.0</td>\n",
       "      <td>69.684211</td>\n",
       "      <td>80.0</td>\n",
       "    </tr>\n",
       "    <tr>\n",
       "      <th>2017-02-06</th>\n",
       "      <td>58.0</td>\n",
       "      <td>70.389831</td>\n",
       "      <td>77.0</td>\n",
       "    </tr>\n",
       "    <tr>\n",
       "      <th>2017-02-07</th>\n",
       "      <td>60.0</td>\n",
       "      <td>69.000000</td>\n",
       "      <td>77.0</td>\n",
       "    </tr>\n",
       "    <tr>\n",
       "      <th>2017-02-08</th>\n",
       "      <td>56.0</td>\n",
       "      <td>66.754386</td>\n",
       "      <td>74.0</td>\n",
       "    </tr>\n",
       "    <tr>\n",
       "      <th>2017-02-09</th>\n",
       "      <td>57.0</td>\n",
       "      <td>67.589286</td>\n",
       "      <td>75.0</td>\n",
       "    </tr>\n",
       "    <tr>\n",
       "      <th>2017-02-10</th>\n",
       "      <td>56.0</td>\n",
       "      <td>68.416667</td>\n",
       "      <td>76.0</td>\n",
       "    </tr>\n",
       "    <tr>\n",
       "      <th>2017-02-11</th>\n",
       "      <td>61.0</td>\n",
       "      <td>69.250000</td>\n",
       "      <td>79.0</td>\n",
       "    </tr>\n",
       "    <tr>\n",
       "      <th>2017-02-12</th>\n",
       "      <td>60.0</td>\n",
       "      <td>69.157895</td>\n",
       "      <td>78.0</td>\n",
       "    </tr>\n",
       "    <tr>\n",
       "      <th>2017-02-13</th>\n",
       "      <td>58.0</td>\n",
       "      <td>70.362069</td>\n",
       "      <td>80.0</td>\n",
       "    </tr>\n",
       "    <tr>\n",
       "      <th>2017-02-14</th>\n",
       "      <td>62.0</td>\n",
       "      <td>70.894737</td>\n",
       "      <td>79.0</td>\n",
       "    </tr>\n",
       "    <tr>\n",
       "      <th>2017-02-15</th>\n",
       "      <td>56.0</td>\n",
       "      <td>70.288136</td>\n",
       "      <td>79.0</td>\n",
       "    </tr>\n",
       "  </tbody>\n",
       "</table>\n",
       "</div>"
      ],
      "text/plain": [
       "            TMin       TAvg  TMax\n",
       "Date                             \n",
       "2017-02-05  59.0  69.684211  80.0\n",
       "2017-02-06  58.0  70.389831  77.0\n",
       "2017-02-07  60.0  69.000000  77.0\n",
       "2017-02-08  56.0  66.754386  74.0\n",
       "2017-02-09  57.0  67.589286  75.0\n",
       "2017-02-10  56.0  68.416667  76.0\n",
       "2017-02-11  61.0  69.250000  79.0\n",
       "2017-02-12  60.0  69.157895  78.0\n",
       "2017-02-13  58.0  70.362069  80.0\n",
       "2017-02-14  62.0  70.894737  79.0\n",
       "2017-02-15  56.0  70.288136  79.0"
      ]
     },
     "execution_count": 25,
     "metadata": {},
     "output_type": "execute_result"
    }
   ],
   "source": [
    "#Combine the vacation_dates_list and the tmin, tavg, and tmax lists into a single dataframe\n",
    "normals_df = pd.DataFrame({'Date': vacation_dates_list,\n",
    "                          'TMin': tmin,\n",
    "                          'TAvg': tavg,\n",
    "                          'TMax': tmax})\n",
    "\n",
    "#Set the Date columns as the index\n",
    "normals_df = normals_df.set_index('Date')\n",
    "\n",
    "#Print the normals_df dataframe\n",
    "normals_df"
   ]
  },
  {
   "cell_type": "code",
   "execution_count": 35,
   "metadata": {},
   "outputs": [
    {
     "data": {
      "image/png": "[encoded data removed]",
      "text/plain": [
       "<Figure size 432x288 with 1 Axes>"
      ]
     },
     "metadata": {
      "needs_background": "light"
     },
     "output_type": "display_data"
    }
   ],
   "source": [
    "#Create an area plot from the normals_df dataframe\n",
    "normals_df.plot.area(stacked=False)\n",
    "    #https://pandas.pydata.org/pandas-docs/stable/reference/api/pandas.DataFrame.plot.area.html\n",
    "    \n",
    "#Format the area plot\n",
    "plt.title(f'Temperature by Day')\n",
    "plt.xlabel('Date')\n",
    "plt.ylabel('Temperature (°F)')\n",
    "\n",
    "#Save the figure\n",
    "plt.savefig('Figures/trip_temperature_normals.png')\n",
    "\n",
    "#Print the figure\n",
    "plt.show()"
   ]
  },
  {
   "cell_type": "code",
   "execution_count": null,
   "metadata": {},
   "outputs": [],
   "source": []
  }
 ],
 "metadata": {
  "kernel_info": {
   "name": "python3"
  },
  "kernelspec": {
   "display_name": "Python 3",
   "language": "python",
   "name": "python3"
  },
  "language_info": {
   "codemirror_mode": {
    "name": "ipython",
    "version": 3
   },
   "file_extension": ".py",
   "mimetype": "text/x-python",
   "name": "python",
   "nbconvert_exporter": "python",
   "pygments_lexer": "ipython3",
   "version": "3.7.6"
  },
  "nteract": {
   "version": "0.12.3"
  },
  "varInspector": {
   "cols": {
    "lenName": 16,
    "lenType": 16,
    "lenVar": 40
   },
   "kernels_config": {
    "python": {
     "delete_cmd_postfix": "",
     "delete_cmd_prefix": "del ",
     "library": "var_list.py",
     "varRefreshCmd": "print(var_dic_list())"
    },
    "r": {
     "delete_cmd_postfix": ") ",
     "delete_cmd_prefix": "rm(",
     "library": "var_list.r",
     "varRefreshCmd": "cat(var_dic_list()) "
    }
   },
   "types_to_exclude": [
    "module",
    "function",
    "builtin_function_or_method",
    "instance",
    "_Feature"
   ],
   "window_display": false
  }
 },
 "nbformat": 4,
 "nbformat_minor": 2
}
